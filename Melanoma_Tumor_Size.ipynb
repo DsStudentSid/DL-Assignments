{
  "nbformat": 4,
  "nbformat_minor": 0,
  "metadata": {
    "colab": {
      "name": "Melanoma-Tumor-Size",
      "provenance": [],
      "collapsed_sections": [],
      "authorship_tag": "ABX9TyPeCfxhq04ooIOP1Y0As4QI",
      "include_colab_link": true
    },
    "kernelspec": {
      "name": "python3",
      "display_name": "Python 3"
    }
  },
  "cells": [
    {
      "cell_type": "markdown",
      "metadata": {
        "id": "view-in-github",
        "colab_type": "text"
      },
      "source": [
        "<a href=\"https://colab.research.google.com/github/DsStudentSid/DL-Assignments/blob/master/Melanoma_Tumor_Size.ipynb\" target=\"_parent\"><img src=\"https://colab.research.google.com/assets/colab-badge.svg\" alt=\"Open In Colab\"/></a>"
      ]
    },
    {
      "cell_type": "markdown",
      "metadata": {
        "id": "DDq4lJREZqW6",
        "colab_type": "text"
      },
      "source": [
        "**Table of Content**\n",
        "\n",
        "To train a model using TF-Keras library and predict the melanoma tumor size\n",
        "\n",
        "**Melanoma Tumor Size Dataset **\n",
        "\n",
        "2.1 Get the Data\n",
        "\n",
        "2.2 Clean the Data\n",
        "\n",
        "2.3 Split the Data into Train and Test\n",
        "\n",
        "2.4 Inspect the Data\n",
        "\n",
        "2.5 Split Features from Labels\n",
        "\n",
        "2.6 Normalize the Data\n",
        "\n",
        "**The Model**\n",
        "\n",
        "3.1 Build the Model\n",
        "\n",
        "3.2 Inspect the Model\n",
        "\n",
        "3.3 Train the Model\n",
        "\n",
        "3.4 Make Predictions\n",
        "\n",
        "**Model Tuning**\n",
        "\n",
        "4.1 Increasing the Number of Hidden Layers and Hidden Units\n",
        "\n",
        "4.2 Weight Regularization\n",
        "\n",
        "4.3 Dropout\n",
        "\n",
        "4.4 Combined L2 + Dropout\n",
        "\n",
        "4.5 Batch Normalization\n",
        "\n",
        "**Conclusion**"
      ]
    },
    {
      "cell_type": "code",
      "metadata": {
        "id": "t3Ub0icHa6Ri",
        "colab_type": "code",
        "colab": {}
      },
      "source": [
        "# Import tensorflow 2.x\n",
        "# This code block will only work in Google Colab.\n",
        "try:\n",
        "    # %tensorflow_version only exists in Colab.\n",
        "    %tensorflow_version 2.x\n",
        "except Exception:\n",
        "    pass"
      ],
      "execution_count": null,
      "outputs": []
    },
    {
      "cell_type": "code",
      "metadata": {
        "id": "tbL3mlUSbSnA",
        "colab_type": "code",
        "colab": {
          "base_uri": "https://localhost:8080/",
          "height": 35
        },
        "outputId": "a76c7651-d5c2-4dab-91da-123c15b6b7a2"
      },
      "source": [
        "import tensorflow as tf\n",
        "\n",
        "from tensorflow import keras\n",
        "from tensorflow.keras import layers\n",
        "\n",
        "print(tf.__version__)"
      ],
      "execution_count": null,
      "outputs": [
        {
          "output_type": "stream",
          "text": [
            "2.3.0\n"
          ],
          "name": "stdout"
        }
      ]
    },
    {
      "cell_type": "code",
      "metadata": {
        "id": "psaVTRIgbpIw",
        "colab_type": "code",
        "colab": {}
      },
      "source": [
        "import pathlib\n",
        "\n",
        "import numpy as np\n",
        "import pandas as pd\n",
        "\n",
        "import matplotlib.pyplot as plt\n",
        "%matplotlib inline\n",
        "\n",
        "import seaborn as sns"
      ],
      "execution_count": 22,
      "outputs": []
    },
    {
      "cell_type": "code",
      "metadata": {
        "id": "SfPfAw0Mbw17",
        "colab_type": "code",
        "colab": {
          "base_uri": "https://localhost:8080/",
          "height": 202
        },
        "outputId": "b581eac3-e57b-472e-c84f-d8b8c8d9c71b"
      },
      "source": [
        "df_melona = pd.read_csv('https://raw.githubusercontent.com/DsStudentSid/DL-Assignments/master/melanoma_tumor_size.csv')\n",
        "df_melona.head()"
      ],
      "execution_count": 27,
      "outputs": [
        {
          "output_type": "execute_result",
          "data": {
            "text/html": [
              "<div>\n",
              "<style scoped>\n",
              "    .dataframe tbody tr th:only-of-type {\n",
              "        vertical-align: middle;\n",
              "    }\n",
              "\n",
              "    .dataframe tbody tr th {\n",
              "        vertical-align: top;\n",
              "    }\n",
              "\n",
              "    .dataframe thead th {\n",
              "        text-align: right;\n",
              "    }\n",
              "</style>\n",
              "<table border=\"1\" class=\"dataframe\">\n",
              "  <thead>\n",
              "    <tr style=\"text-align: right;\">\n",
              "      <th></th>\n",
              "      <th>mass_npea</th>\n",
              "      <th>size_npear</th>\n",
              "      <th>malign_ratio</th>\n",
              "      <th>damage_size</th>\n",
              "      <th>exposed_area</th>\n",
              "      <th>std_dev_malign</th>\n",
              "      <th>err_malign</th>\n",
              "      <th>malign_penalty</th>\n",
              "      <th>damage_ratio</th>\n",
              "      <th>tumor_size</th>\n",
              "    </tr>\n",
              "  </thead>\n",
              "  <tbody>\n",
              "    <tr>\n",
              "      <th>0</th>\n",
              "      <td>6930.90</td>\n",
              "      <td>2919.02</td>\n",
              "      <td>0.42116</td>\n",
              "      <td>51.8298</td>\n",
              "      <td>9.888294e+05</td>\n",
              "      <td>109.487</td>\n",
              "      <td>2758.76</td>\n",
              "      <td>72</td>\n",
              "      <td>39.3620</td>\n",
              "      <td>14.103</td>\n",
              "    </tr>\n",
              "    <tr>\n",
              "      <th>1</th>\n",
              "      <td>15635.70</td>\n",
              "      <td>4879.36</td>\n",
              "      <td>0.31206</td>\n",
              "      <td>223.5500</td>\n",
              "      <td>2.058426e+06</td>\n",
              "      <td>248.881</td>\n",
              "      <td>5952.53</td>\n",
              "      <td>240</td>\n",
              "      <td>22.0253</td>\n",
              "      <td>2.648</td>\n",
              "    </tr>\n",
              "    <tr>\n",
              "      <th>2</th>\n",
              "      <td>10376.20</td>\n",
              "      <td>2613.88</td>\n",
              "      <td>0.25191</td>\n",
              "      <td>127.3370</td>\n",
              "      <td>1.434676e+06</td>\n",
              "      <td>160.093</td>\n",
              "      <td>4635.26</td>\n",
              "      <td>73</td>\n",
              "      <td>29.9963</td>\n",
              "      <td>1.688</td>\n",
              "    </tr>\n",
              "    <tr>\n",
              "      <th>3</th>\n",
              "      <td>13093.80</td>\n",
              "      <td>4510.06</td>\n",
              "      <td>0.34444</td>\n",
              "      <td>155.4400</td>\n",
              "      <td>1.812195e+06</td>\n",
              "      <td>173.015</td>\n",
              "      <td>5273.87</td>\n",
              "      <td>32</td>\n",
              "      <td>28.1354</td>\n",
              "      <td>3.796</td>\n",
              "    </tr>\n",
              "    <tr>\n",
              "      <th>4</th>\n",
              "      <td>7545.21</td>\n",
              "      <td>2882.36</td>\n",
              "      <td>0.38201</td>\n",
              "      <td>85.1237</td>\n",
              "      <td>1.043918e+06</td>\n",
              "      <td>124.414</td>\n",
              "      <td>3263.35</td>\n",
              "      <td>57</td>\n",
              "      <td>35.0200</td>\n",
              "      <td>18.023</td>\n",
              "    </tr>\n",
              "  </tbody>\n",
              "</table>\n",
              "</div>"
            ],
            "text/plain": [
              "   mass_npea  size_npear  ...  damage_ratio  tumor_size\n",
              "0    6930.90     2919.02  ...       39.3620      14.103\n",
              "1   15635.70     4879.36  ...       22.0253       2.648\n",
              "2   10376.20     2613.88  ...       29.9963       1.688\n",
              "3   13093.80     4510.06  ...       28.1354       3.796\n",
              "4    7545.21     2882.36  ...       35.0200      18.023\n",
              "\n",
              "[5 rows x 10 columns]"
            ]
          },
          "metadata": {
            "tags": []
          },
          "execution_count": 27
        }
      ]
    }
  ]
}